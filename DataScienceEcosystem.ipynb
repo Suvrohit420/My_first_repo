{
 "cells": [
  {
   "cell_type": "markdown",
   "id": "b4ea8938-4f23-4242-85e8-3e5c7171d9b7",
   "metadata": {},
   "source": [
    "<h1>Data Science Tools and Ecosystem<h1>"
   ]
  },
  {
   "cell_type": "raw",
   "id": "cb6517ea-89f5-4155-9acf-9e8b3d795edf",
   "metadata": {},
   "source": [
    "In this notebook, Data Science Tools and Ecosystem are summarized."
   ]
  },
  {
   "cell_type": "markdown",
   "id": "c378d693-b53d-4b40-90a1-2e7eab158913",
   "metadata": {},
   "source": [
    "<B>Objectives:<B>\n",
    "* List popular languages for Data Science\n",
    "* Common libraries in Data Science\n",
    "* Some tools used in Data Science\n",
    "* Some arithmetic expression evaluation using Python"
   ]
  },
  {
   "cell_type": "markdown",
   "id": "24a60c64-1a7e-4856-be9f-814729c1449c",
   "metadata": {},
   "source": [
    "Some of the popular languages that Data Scientists use are:\n",
    "1. Python\n",
    "2. R\n",
    "3. Scala\n",
    "4. Javascript"
   ]
  },
  {
   "cell_type": "markdown",
   "id": "5e06d9ad-b5f3-46ad-bd2f-e1303f642604",
   "metadata": {},
   "source": [
    "Some of the commonly used libraries used by Data Scientists include:\n",
    "1. Numpy\n",
    "2. Pandas\n",
    "3. Matplotlib\n",
    "4. Seaborn\n",
    "5. ggplot\n"
   ]
  },
  {
   "cell_type": "markdown",
   "id": "d847dd80-3ee9-468b-b80c-4511cfc22a23",
   "metadata": {},
   "source": [
    "| Data Science Tools |\n",
    "|--------------------|\n",
    "| Tensorflow |\n",
    "| Apache Spark |\n",
    "| Apache Hadoop | \n",
    "| Scikit-learn |"
   ]
  },
  {
   "cell_type": "markdown",
   "id": "7a846ff9-ea0f-4818-8842-bc75271f79c9",
   "metadata": {},
   "source": [
    "<h3>Below are a few examples of evaluating arithmetic expressions in Python</h3>"
   ]
  },
  {
   "cell_type": "code",
   "execution_count": 11,
   "id": "1776627c-7a6d-40e3-9965-caca96e17d70",
   "metadata": {},
   "outputs": [
    {
     "data": {
      "text/plain": [
       "17"
      ]
     },
     "execution_count": 11,
     "metadata": {},
     "output_type": "execute_result"
    }
   ],
   "source": [
    "#This a simple arithmetic expression to mutiply then add integers\n",
    "(3*4)+5"
   ]
  },
  {
   "cell_type": "code",
   "execution_count": 13,
   "id": "bb1c279f-4e99-48cc-adb0-a29973d2ee99",
   "metadata": {},
   "outputs": [
    {
     "name": "stdout",
     "output_type": "stream",
     "text": [
      "3.3333333333333335\n"
     ]
    }
   ],
   "source": [
    "#This will convert 200 minutes to hours by diving by 60\n",
    "min = 200\n",
    "hours = min/60\n",
    "print(hours)"
   ]
  },
  {
   "cell_type": "markdown",
   "id": "21400ac5-0f13-46f4-8c33-e1125e6a0c81",
   "metadata": {},
   "source": [
    "<h2>Author</h2>\n",
    "Suvrodeep Pal"
   ]
  },
  {
   "cell_type": "code",
   "execution_count": null,
   "id": "fe6ae080-7ea3-4dbc-a427-1d2453756642",
   "metadata": {},
   "outputs": [],
   "source": []
  }
 ],
 "metadata": {
  "kernelspec": {
   "display_name": "Python 3 (ipykernel)",
   "language": "python",
   "name": "python3"
  },
  "language_info": {
   "codemirror_mode": {
    "name": "ipython",
    "version": 3
   },
   "file_extension": ".py",
   "mimetype": "text/x-python",
   "name": "python",
   "nbconvert_exporter": "python",
   "pygments_lexer": "ipython3",
   "version": "3.12.4"
  }
 },
 "nbformat": 4,
 "nbformat_minor": 5
}
